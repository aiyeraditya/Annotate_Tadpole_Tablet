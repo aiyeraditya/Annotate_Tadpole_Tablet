{
 "cells": [
  {
   "cell_type": "code",
   "execution_count": 1,
   "id": "bdbfa678",
   "metadata": {},
   "outputs": [],
   "source": [
    "import numpy as np\n",
    "import pandas as pd\n",
    "import os, cv2\n",
    "import aniposelib\n",
    "import scipy.io"
   ]
  },
  {
   "cell_type": "code",
   "execution_count": 41,
   "id": "bef5ef42",
   "metadata": {},
   "outputs": [
    {
     "data": {
      "text/plain": [
       "array(['1_0-1477', '1_2200-3340', '20_6011-7919', '20_9661-11999',\n",
       "       '21_0-2061'], dtype='<U14')"
      ]
     },
     "execution_count": 41,
     "metadata": {},
     "output_type": "execute_result"
    }
   ],
   "source": [
    "data_path = '/mnt/soma_cifs/Iyer/DANNCE_Files/tadpole_stage57_2022-11-04/DLTdv8_data_V1xypts.csv'\n",
    "calib_path = '/mnt/soma_cifs/Iyer/Filming/02112022a/calibrationwater_1515/calibration.toml'\n",
    "label3d_path = '/mnt/soma_cifs/Iyer/DANNCE_Files/tadpole-stage57_Nov2022b/label3d_data.mat';\n",
    "label3d_path1 = '/mnt/soma_cifs/Iyer/DANNCE_Files/backup/tadpole-stage57_Nov2022b/label3d_data.mat';\n",
    "path_ = '/home/iyer_la/Documents/TailAnnotated/tadpole_stage57_Cam2-Aditya-2022-11-04/labeled-data/';\n",
    "calibration_ = aniposelib.cameras.CameraGroup.load(calib_path);\n",
    "n_frames = 46\n",
    "n_pts = 23\n",
    "tail_framenames = np.sort(os.listdir(path_))[:5]\n",
    "tail_framenames"
   ]
  },
  {
   "cell_type": "code",
   "execution_count": 42,
   "id": "ac3c98ce-32cb-49fb-b096-41c109a6b99d",
   "metadata": {},
   "outputs": [],
   "source": [
    "def get_3dpts(df, j):\n",
    "    return calibration_.triangulate_ransac(np.array([df[df.columns[2*i : 2*i + 2]].to_numpy() for i in range(3*j,3*j + 3)]))[0]"
   ]
  },
  {
   "cell_type": "code",
   "execution_count": 43,
   "id": "013537a7-98c2-4c7b-9b1b-c5becd7f2a66",
   "metadata": {},
   "outputs": [],
   "source": [
    "def get_tailpt(t, i):\n",
    "    try:\n",
    "        pts3d = np.load(f'/home/iyer_la/Documents/TailAnnotated/DANNCE/points_{t}_{i[3:7]}.npy')\n",
    "    except:\n",
    "        pts3d = np.zeros((10,3))*np.nan\n",
    "    return pts3d"
   ]
  },
  {
   "cell_type": "code",
   "execution_count": 44,
   "id": "5c4739fd",
   "metadata": {},
   "outputs": [],
   "source": [
    "def get_tail3d():\n",
    "    tail3d = []\n",
    "    for t in tail_framenames:\n",
    "        I = sorted([j for j in os.listdir(f'{path_}{t}') if 'png' in j])\n",
    "        tail_pts3d = np.array([get_tailpt(t, i) for i in I]); # (n_frame x 10 x 3)\n",
    "        for tail in tail_pts3d:\n",
    "            tail3d.append(tail)\n",
    "    tail3d = np.array(tail3d)\n",
    "    return tail3d"
   ]
  },
  {
   "cell_type": "code",
   "execution_count": 45,
   "id": "57c6899c-c8cd-41ff-b45f-3fe562bb4f8c",
   "metadata": {},
   "outputs": [],
   "source": [
    "from typing import List, Dict, Text, Union\n",
    "def load_label3d_data(path: Text, key: Text):\n",
    "    \"\"\"Load Label3D data\n",
    "    Args:\n",
    "        path (Text): Path to Label3D file\n",
    "        key (Text): Field to access\n",
    "    Returns:\n",
    "        TYPE: Data from field\n",
    "    \"\"\"\n",
    "    d = scipy.io.loadmat(path)[key]\n",
    "    dataset = [f[0] for f in d]\n",
    "\n",
    "    # Data are loaded in this annoying structure where the array\n",
    "    # we want is at dataset[i][key][0,0], as a nested array of arrays.\n",
    "    # Simplify this structure (a numpy record array) here.\n",
    "    # Additionally, cannot use views here because of shape mismatches. Define\n",
    "    # new dict and return.\n",
    "    data = []\n",
    "    for d in dataset:\n",
    "        d_ = {}\n",
    "        for key in d.dtype.names:\n",
    "            d_[key] = d[key][0, 0]\n",
    "        data.append(d_)\n",
    "    return data\n",
    "\n",
    "def get_frame(idx: int, grayscale: bool = None) -> np.ndarray:\n",
    "    \"\"\"See :class:`Video`.\"\"\"\n",
    "\n",
    "    v.set(cv2.CAP_PROP_POS_FRAMES, idx)\n",
    "    success, frame = v.read()\n",
    "\n",
    "    if not success or frame is None:\n",
    "        raise KeyError(f\"Unable to load frame {idx}\")\n",
    "\n",
    "\n",
    "    return frame"
   ]
  },
  {
   "cell_type": "code",
   "execution_count": 46,
   "id": "8f602861",
   "metadata": {},
   "outputs": [],
   "source": [
    "df = pd.read_csv(data_path)\n",
    "torso3d = np.array([get_3dpts(df, i) for i in range(13)]) # (13, 88, 3)\n",
    "tail3d = get_tail3d()\n",
    "pts3d = np.concatenate((np.transpose(torso3d, [1,0,2]), tail3d), axis = 1)\n",
    "p2d = calibration_.project(pts3d).reshape(3, -1, 23, 2)\n",
    "\n",
    "\n",
    "matfile_ = scipy.io.loadmat(label3d_path1)['label3d_data'];\n",
    "\n",
    "for cam_num in [0,1,2]:\n",
    "    matfile_['labelData'][0][0][cam_num][0]['data_2d'][0][0] = p2d[cam_num].reshape(-1, n_pts*2)\n",
    "    matfile_['labelData'][0][0][cam_num][0]['data_3d'][0][0] = pts3d.reshape(-1, n_pts*3)\n",
    "    matfile_['labelData'][0][0][cam_num][0]['data_frame'][0][0] = np.transpose(matfile_['labelData'][0][0][cam_num][0]['data_frame'][0][0]) - 1\n",
    "    matfile_['labelData'][0][0][cam_num][0]['data_sampleID'][0][0] = np.transpose(matfile_['labelData'][0][0][cam_num][0]['data_sampleID'][0][0]) - 1\n",
    "\n",
    "scipy.io.savemat(label3d_path, {'camnames':matfile_['camnames'][0][0], 'params':matfile_['params'][0][0], 'sync':matfile_['sync'][0][0], 'labelData':matfile_['labelData'][0][0]})"
   ]
  },
  {
   "cell_type": "code",
   "execution_count": 47,
   "id": "88526d97-2aff-4a92-b7e1-ce896de386a2",
   "metadata": {},
   "outputs": [],
   "source": [
    "for cam_num in [1,2,3]:\n",
    "    v = cv2.VideoCapture(f'/mnt/soma_cifs/Iyer/DANNCE_Files/tadpole-stage57_Nov2022b/videos/Camera{cam_num}/0.avi')\n",
    "    df = load_label3d_data(label3d_path, 'labelData')[cam_num - 1]['data_2d']\n",
    "    for idx in range(n_frames):\n",
    "        x = df[idx][::2].astype(np.int32)\n",
    "        y = df[idx][1::2].astype(np.int32)\n",
    "        im_ = get_frame(idx)\n",
    "        for i in range(len(x)):\n",
    "            im_ = cv2.circle(im_, [x[i], y[i]], radius=4, color=(0, 255, 255), thickness=-1)\n",
    "        cv2.imwrite(f'/mnt/soma_cifs/Iyer/DANNCE_Files/tadpole-stage57_Nov2022b/test/c{cam_num}_{idx}.png', im_)"
   ]
  },
  {
   "cell_type": "code",
   "execution_count": null,
   "id": "9ffafd2a-c864-4a6e-8888-84505f068b76",
   "metadata": {
    "tags": []
   },
   "outputs": [],
   "source": []
  },
  {
   "cell_type": "code",
   "execution_count": 20,
   "id": "8bc41da0-8786-4913-a53f-abe0ca22f593",
   "metadata": {},
   "outputs": [
    {
     "data": {
      "text/plain": [
       "True"
      ]
     },
     "execution_count": 20,
     "metadata": {},
     "output_type": "execute_result"
    }
   ],
   "source": [
    "pd.isna(get_tail3d()[0][0][0])"
   ]
  },
  {
   "cell_type": "code",
   "execution_count": null,
   "id": "35b8c9be",
   "metadata": {},
   "outputs": [],
   "source": []
  },
  {
   "cell_type": "code",
   "execution_count": null,
   "id": "b8551d2d",
   "metadata": {
    "tags": []
   },
   "outputs": [],
   "source": []
  },
  {
   "cell_type": "code",
   "execution_count": null,
   "id": "8edc2e77-5fab-46ba-8d0e-baad9848ed15",
   "metadata": {
    "tags": []
   },
   "outputs": [],
   "source": []
  },
  {
   "cell_type": "code",
   "execution_count": null,
   "id": "3b79abea-83a3-42ce-b9e8-7e05a6b017a9",
   "metadata": {},
   "outputs": [],
   "source": []
  },
  {
   "cell_type": "code",
   "execution_count": null,
   "id": "160fb33b-b6a4-4dde-8111-79a1f7fdd9f3",
   "metadata": {
    "tags": []
   },
   "outputs": [],
   "source": []
  },
  {
   "cell_type": "code",
   "execution_count": 208,
   "id": "a25424ff-07a9-4666-b29f-d4a7641d26f5",
   "metadata": {},
   "outputs": [],
   "source": [
    "v = cv2.VideoCapture('/mnt/soma_cifs/Iyer/DANNCE_Files/tadpole-stage57_Nov2022a/videos/Camera1/0.avi')\n",
    "def get_frame(v, idx):\n",
    "    v.set(cv2.CAP_PROP_POS_FRAMES, idx)\n",
    "    _, r = v.read()\n",
    "    return r"
   ]
  },
  {
   "cell_type": "code",
   "execution_count": null,
   "id": "0f10f839",
   "metadata": {},
   "outputs": [],
   "source": []
  },
  {
   "cell_type": "code",
   "execution_count": null,
   "id": "e18e20ed",
   "metadata": {},
   "outputs": [],
   "source": []
  },
  {
   "cell_type": "code",
   "execution_count": null,
   "id": "f4c4d545",
   "metadata": {
    "tags": []
   },
   "outputs": [],
   "source": []
  },
  {
   "cell_type": "code",
   "execution_count": null,
   "id": "a620da92",
   "metadata": {
    "tags": []
   },
   "outputs": [],
   "source": []
  },
  {
   "cell_type": "code",
   "execution_count": null,
   "id": "9629897e",
   "metadata": {
    "tags": []
   },
   "outputs": [],
   "source": []
  },
  {
   "cell_type": "code",
   "execution_count": 311,
   "id": "951ed277",
   "metadata": {},
   "outputs": [],
   "source": []
  },
  {
   "cell_type": "code",
   "execution_count": 133,
   "id": "574c3fd1",
   "metadata": {},
   "outputs": [
    {
     "data": {
      "text/plain": [
       "['Camera1', 'Camera2', 'Camera3']"
      ]
     },
     "execution_count": 133,
     "metadata": {},
     "output_type": "execute_result"
    }
   ],
   "source": [
    "load_camnames(label3d_path)"
   ]
  },
  {
   "cell_type": "code",
   "execution_count": 122,
   "id": "0d09fa7a",
   "metadata": {},
   "outputs": [],
   "source": [
    "def load_camnames(path: Text) -> Union[List, None]:\n",
    "    \"\"\"Load camera names from .mat file.\n",
    "    Args:\n",
    "        path (Text): Path to .mat file with \"camnames\" field\n",
    "    Returns:\n",
    "        Union[List, None]: List of cameranames\n",
    "    \"\"\"\n",
    "    label_3d_file = scipy.io.loadmat(path)\n",
    "    if \"camnames\" in label_3d_file:\n",
    "        names = label_3d_file[\"camnames\"][:]\n",
    "        if len(names) != len(label_3d_file[\"labelData\"]):\n",
    "            camnames = [name[0] for name in names[0]]\n",
    "        else:\n",
    "            camnames = [name[0][0] for name in names]\n",
    "    else:\n",
    "        camnames = None\n",
    "    return camnames"
   ]
  },
  {
   "cell_type": "code",
   "execution_count": null,
   "id": "2dfcf13d",
   "metadata": {},
   "outputs": [],
   "source": []
  },
  {
   "cell_type": "code",
   "execution_count": null,
   "id": "ddea7d54",
   "metadata": {},
   "outputs": [],
   "source": []
  },
  {
   "cell_type": "code",
   "execution_count": 312,
   "id": "13962ebe",
   "metadata": {},
   "outputs": [],
   "source": []
  },
  {
   "cell_type": "code",
   "execution_count": null,
   "id": "8df48e41",
   "metadata": {},
   "outputs": [],
   "source": []
  },
  {
   "cell_type": "code",
   "execution_count": null,
   "id": "55077623",
   "metadata": {},
   "outputs": [],
   "source": []
  },
  {
   "cell_type": "code",
   "execution_count": 15,
   "id": "6e3977c7",
   "metadata": {},
   "outputs": [
    {
     "data": {
      "text/plain": [
       "[<matplotlib.lines.Line2D at 0x7ff91b115d50>]"
      ]
     },
     "execution_count": 15,
     "metadata": {},
     "output_type": "execute_result"
    },
    {
     "data": {
      "image/png": "[encoded data removed]",
      "text/plain": [
       "<Figure size 640x480 with 1 Axes>"
      ]
     },
     "metadata": {},
     "output_type": "display_data"
    }
   ],
   "source": [
    "path_ = '/home/iyer_la/Documents/TailAnnotated/DANNCE/'\n",
    "files_ = [path_ + i for i in os.listdir(path_) if 'points' in i]\n",
    "z = []\n",
    "for fi in files_:\n",
    "    n = np.load(fi)\n",
    "    z.append(np.linalg.norm(np.diff(n), axis = 1))\n",
    "z = np.array(z).reshape(-1)\n",
    "plt.plot(z)\n",
    "plt.hist(z)"
   ]
  },
  {
   "cell_type": "code",
   "execution_count": 261,
   "id": "df477791",
   "metadata": {},
   "outputs": [],
   "source": [
    "matfile_ = scipy.io.loadmat('/mnt/soma_cifs/Iyer/DANNCE_Files/tadpole-stage57_Nov2022b/label3d_dannce.mat')"
   ]
  },
  {
   "cell_type": "code",
   "execution_count": 473,
   "id": "8af2a5dc",
   "metadata": {},
   "outputs": [],
   "source": [
    "v = cv2.VideoCapture('/mnt/soma_cifs/Iyer/DANNCE_Files/tadpole-stage57_Nov2022a/videos/Camera2/0.avi')\n",
    "df = load_label3d_data('/mnt/soma_cifs/Iyer/DANNCE_Files/tadpole-stage57_Nov2022a/label3d_data.mat', 'labelData')[1]['data_2d']"
   ]
  },
  {
   "cell_type": "code",
   "execution_count": 314,
   "id": "17d5423b",
   "metadata": {},
   "outputs": [],
   "source": []
  },
  {
   "cell_type": "code",
   "execution_count": null,
   "id": "4e5583ae",
   "metadata": {},
   "outputs": [],
   "source": []
  },
  {
   "cell_type": "code",
   "execution_count": 364,
   "id": "adec0dfc",
   "metadata": {},
   "outputs": [],
   "source": [
    "df = pd.read_csv(data_path);\n",
    "calibration_ = aniposelib.cameras.CameraGroup.load(calib_path);\n",
    "matfile_ = scipy.io.loadmat(label3d_path1)['label3d_data'];\n",
    "\n",
    "df_np = df.to_numpy()"
   ]
  },
  {
   "cell_type": "code",
   "execution_count": 454,
   "id": "6b0d72a3",
   "metadata": {},
   "outputs": [],
   "source": [
    "data_path = '/mnt/soma_cifs/Iyer/DANNCE_Files/tadpole_stage57_2022-11-04/DLTdv8_data_V1xypts.csv'\n",
    "df = pd.read_csv(data_path)"
   ]
  },
  {
   "cell_type": "code",
   "execution_count": 399,
   "id": "383ce1bf",
   "metadata": {
    "collapsed": true,
    "jupyter": {
     "outputs_hidden": true
    },
    "tags": []
   },
   "outputs": [
    {
     "data": {
      "text/plain": [
       "array([[-2.51045265e+02, -3.85289625e+02,  6.79406928e+03],\n",
       "       [-4.11888026e+01, -3.62684899e+02,  6.92920305e+03],\n",
       "       [ 3.76278812e+01, -3.66814839e+02,  6.99772319e+03],\n",
       "       [ 1.38905069e+02, -3.47692864e+02,  7.07497354e+03],\n",
       "       [ 4.08194618e+02, -2.71166498e+02,  7.12179752e+03],\n",
       "       [ 5.13087296e+02, -2.56043667e+02,  7.14787726e+03],\n",
       "       [ 5.75930347e+02, -2.52940100e+02,  7.16088116e+03],\n",
       "       [ 5.90437522e+02, -2.99430500e+02,  6.98204664e+03],\n",
       "       [ 1.00894520e+03, -3.94824679e+02,  6.90728592e+03],\n",
       "       [ 3.14646416e+02, -3.48060814e+02,  7.14825217e+03],\n",
       "       [ 2.82546067e+02, -1.38662363e+02,  7.21676627e+03],\n",
       "       [ 2.69282996e+02, -9.66537873e+01,  7.23330703e+03],\n",
       "       [ 2.36517147e+02,  4.72647847e+00,  7.26273697e+03],\n",
       "       [ 2.33011447e+02,  1.79189375e+01,  7.27358752e+03],\n",
       "       [ 6.41936633e+02,  8.07173833e+01,  7.12249677e+03],\n",
       "       [ 6.76561244e+02,  9.84297940e+01,  7.13429277e+03],\n",
       "       [ 8.35413806e+02,  1.88446409e+02,  7.19745879e+03],\n",
       "       [ 9.06233128e+02,  2.18653797e+02,  7.21534454e+03],\n",
       "       [ 9.28428672e+02,  2.27701710e+02,  7.21324415e+03],\n",
       "       [ 9.66958280e+02,  2.45409718e+02,  7.20511172e+03],\n",
       "       [ 1.04958390e+03,  2.75967561e+02,  7.21195237e+03],\n",
       "       [ 7.96309139e+02, -5.77823875e+02,  6.65572489e+03],\n",
       "       [ 7.23654612e+02, -5.81567267e+02,  6.77139849e+03],\n",
       "       [ 6.49812027e+02, -5.98368033e+02,  6.90356007e+03],\n",
       "       [ 6.36899504e+02, -6.10028498e+02,  6.90821330e+03],\n",
       "       [ 5.72587540e+02, -6.21706407e+02,  6.85853024e+03],\n",
       "       [ 5.85542275e+02, -3.73797537e+02,  6.89627106e+03],\n",
       "       [ 5.98011401e+02, -3.17657436e+02,  6.92095896e+03],\n",
       "       [ 6.70886790e+02, -1.58009317e+01,  7.01379505e+03],\n",
       "       [ 6.97737872e+02,  9.43288184e+01,  7.07108021e+03],\n",
       "       [ 7.35083107e+02,  2.90007838e+02,  7.19319826e+03],\n",
       "       [ 7.52363233e+02,  3.83691183e+02,  7.23382269e+03],\n",
       "       [ 7.82258774e+02,  4.82196705e+02,  7.33296045e+03],\n",
       "       [ 7.64699143e+02,  8.00632922e+02,  7.35200758e+03],\n",
       "       [ 6.70227896e+02,  7.73274651e+02,  7.31898978e+03],\n",
       "       [ 6.55906992e+02,  7.77742008e+02,  7.31892258e+03],\n",
       "       [ 5.86428018e+02,  7.81792804e+02,  7.35410254e+03],\n",
       "       [ 5.61274613e+02,  7.85800346e+02,  7.34521411e+03],\n",
       "       [ 5.46582680e+02,  7.82401905e+02,  7.34281374e+03],\n",
       "       [ 5.31886978e+02,  7.47751826e+02,  7.32277251e+03],\n",
       "       [ 1.40967771e+02,  6.26699695e+02,  6.92103586e+03],\n",
       "       [ 1.01777140e+02,  6.03992461e+02,  6.75559325e+03],\n",
       "       [ 9.72746498e+01,  6.04869911e+02,  6.74473630e+03],\n",
       "       [ 8.67717587e+01,  6.17060499e+02,  6.67947268e+03],\n",
       "       [ 7.37717194e+01,  6.20875958e+02,  6.66827661e+03],\n",
       "       [ 7.05571531e+01,  6.25373938e+02,  6.65153436e+03]])"
      ]
     },
     "execution_count": 399,
     "metadata": {},
     "output_type": "execute_result"
    }
   ],
   "source": [
    "pts_ = np.array([df[df.columns[0:2]].to_numpy(), df[df.columns[2:4]].to_numpy(), df[df.columns[4:6]].to_numpy()]\n",
    "calibration_.triangulate_ransac(pts_)[0]"
   ]
  },
  {
   "cell_type": "code",
   "execution_count": 5,
   "id": "1583e5fe",
   "metadata": {
    "tags": []
   },
   "outputs": [],
   "source": [
    "def get_columns(df, txt):\n",
    "    c1_c = [i for i in df.columns if txt in i]\n",
    "    c1_cx = [i for i in c1_c if '_X' in i]\n",
    "    c1_cy = [i for i in c1_c if '_Y' in i]\n",
    "    x = df[c1_cx].to_numpy().T.reshape(-1)\n",
    "    y = df[c1_cy].to_numpy().T.reshape(-1)\n",
    "    return np.array([x,y]).T"
   ]
  },
  {
   "cell_type": "code",
   "execution_count": 6,
   "id": "67d0ffa7",
   "metadata": {},
   "outputs": [],
   "source": [
    "def get_tailpts(tail_framenames):\n",
    "    J = []\n",
    "    for i in tail_framenames:\n",
    "        I = sorted([j for j in os.listdir(f'/home/iyer_la/Documents/TailAnnotated/tadpole_stage57_Cam1-Aditya-2022-11-04/labeled-data/{i}') if 'png' in j])\n",
    "        for j in I:\n",
    "            J.append(f'/home/iyer_la/Documents/TailAnnotated/DANNCE/points_{i}_{j[3:7]}.npy')\n",
    "    z = np.zeros((len(J), 10, 3)) * np.nan\n",
    "    for i, j in enumerate(J):\n",
    "        try:\n",
    "            z[i] = np.load(j)\n",
    "        except:\n",
    "            print(j)\n",
    "    return z"
   ]
  },
  {
   "cell_type": "code",
   "execution_count": 19,
   "id": "7510835c",
   "metadata": {},
   "outputs": [],
   "source": [
    "def add_pts(data_path, calib_path, label3d_path, n_frames, n_pts):\n",
    "    df = pd.read_csv(data_path);\n",
    "    pts = np.array([get_columns(df, 'cam1'), get_columns(df, 'cam2'), get_columns(df, 'cam3')]);\n",
    "    calibration_ = aniposelib.cameras.CameraGroup.load(calib_path);\n",
    "    xyz = calibration_.triangulate_ransac(pts)[0];\n",
    "    xyz = xyz.reshape(n_frames, 13, 3);\n",
    "    \n",
    "    tail_pts = get_tailpts(tail_framenames);\n",
    "    all_pts = np.concatenate((xyz, tail_pts), axis = 1);\n",
    "    all_pts = all_pts.reshape(-1,3)\n",
    "    \n",
    "    df_cam = calibration_.project(all_pts)\n",
    "    matfile_ = scipy.io.loadmat(label3d_path1)['label3d_data'];\n",
    "    for cam_num in [0,1,2]:\n",
    "        matfile_['labelData'][0][0][cam_num][0]['data_2d'][0][0] = df_cam[cam_num].reshape(n_frames, n_pts*2)\n",
    "        matfile_['labelData'][0][0][cam_num][0]['data_3d'][0][0] = all_pts.reshape(n_frames, n_pts*3)\n",
    "        matfile_['labelData'][0][0][cam_num][0]['data_frame'][0][0] = np.transpose(matfile_['labelData'][0][0][cam_num][0]['data_frame'][0][0]) - 1\n",
    "        matfile_['labelData'][0][0][cam_num][0]['data_sampleID'][0][0] = np.transpose(matfile_['labelData'][0][0][cam_num][0]['data_sampleID'][0][0]) - 1\n",
    "\n",
    "    scipy.io.savemat(label3d_path, {'camnames':matfile_['camnames'][0][0], 'params':matfile_['params'][0][0], 'sync':matfile_['sync'][0][0], 'labelData':matfile_['labelData'][0][0]})"
   ]
  },
  {
   "cell_type": "code",
   "execution_count": 20,
   "id": "d738159d",
   "metadata": {},
   "outputs": [],
   "source": [
    "add_pts(data_path, calib_path, label3d_path, n_frames, n_pts)\n",
    "matfile_ = scipy.io.loadmat(label3d_path)"
   ]
  },
  {
   "cell_type": "code",
   "execution_count": 483,
   "id": "5cda4b6c",
   "metadata": {},
   "outputs": [],
   "source": [
    "df = pd.read_csv(data_path);\n",
    "pts = np.array([get_columns(df, 'cam1'), get_columns(df, 'cam2'), get_columns(df, 'cam3')]);\n",
    "calibration_ = aniposelib.cameras.CameraGroup.load(calib_path);\n",
    "xyz = calibration_.triangulate_ransac(pts)[0];\n",
    "xyz = xyz.reshape(n_frames, 13, 3);\n",
    "\n",
    "tail_pts = get_tailpts(tail_framenames);\n",
    "all_pts = np.concatenate((xyz, tail_pts), axis = 1);\n",
    "all_pts = all_pts.reshape(-1,3)"
   ]
  },
  {
   "cell_type": "code",
   "execution_count": 499,
   "id": "8e0f77b7",
   "metadata": {
    "collapsed": true,
    "jupyter": {
     "outputs_hidden": true
    },
    "tags": []
   },
   "outputs": [
    {
     "data": {
      "text/plain": [
       "array([[[ 7.29463794e+02,  4.93701648e+02],\n",
       "        [ 9.28351356e+02,  5.15603458e+02],\n",
       "        [ 1.00032399e+03,  5.13727406e+02],\n",
       "        [ 1.09224916e+03,  5.32334160e+02],\n",
       "        [ 1.33648503e+03,  5.90463771e+02],\n",
       "        [ 1.42942486e+03,  6.00435174e+02],\n",
       "        [ 1.48461539e+03,  6.00898952e+02],\n",
       "        [ 1.50809932e+03,  5.44196057e+02],\n",
       "        [ 1.89225690e+03,  4.28148992e+02],\n",
       "        [ 1.24758838e+03,  5.29051951e+02],\n",
       "        [ 1.22800896e+03,  7.20920626e+02],\n",
       "        [ 1.21799839e+03,  7.59561242e+02],\n",
       "        [ 1.19364446e+03,  8.51832699e+02],\n",
       "        [ 7.64189259e+02,  2.31334243e+02],\n",
       "        [ 7.43135209e+02,  2.45331095e+02],\n",
       "        [ 7.14025647e+02,  2.66947751e+02],\n",
       "        [ 6.87964020e+02,  2.85717784e+02],\n",
       "        [ 6.63481735e+02,  2.96130357e+02],\n",
       "        [ 6.44558212e+02,  2.99576868e+02],\n",
       "        [ 6.41248379e+02,  2.95027726e+02],\n",
       "        [ 6.47025448e+02,  2.92174377e+02],\n",
       "        [ 6.36656261e+02,  2.57205344e+02],\n",
       "        [ 6.56648146e+02,  2.57890950e+02]],\n",
       "\n",
       "       [[ 6.61578790e+02,  8.93377194e+02],\n",
       "        [ 6.83838992e+02,  1.06231886e+03],\n",
       "        [ 6.76204727e+02,  1.14556628e+03],\n",
       "        [ 6.97162054e+02,  1.23374447e+03],\n",
       "        [ 7.73110452e+02,  1.26025158e+03],\n",
       "        [ 7.83691326e+02,  1.27978302e+03],\n",
       "        [ 7.82827574e+02,  1.28838145e+03],\n",
       "        [ 7.20796258e+02,  1.08215545e+03],\n",
       "        [ 5.88825653e+02,  9.80517385e+02],\n",
       "        [ 6.88063122e+02,  1.30611409e+03],\n",
       "        [ 9.49166146e+02,  1.38222557e+03],\n",
       "        [ 1.00263139e+03,  1.40182886e+03],\n",
       "        [ 1.13207588e+03,  1.43662289e+03],\n",
       "        [ 3.55217371e+02,  1.93764308e+02],\n",
       "        [ 3.77421193e+02,  1.46346033e+02],\n",
       "        [ 4.09371916e+02,  9.73993074e+01],\n",
       "        [ 4.37415698e+02,  5.14392326e+01],\n",
       "        [ 4.54922051e+02, -8.74045546e-01],\n",
       "        [ 4.64172334e+02, -6.08364586e+01],\n",
       "        [ 4.63256572e+02, -1.15224042e+02],\n",
       "        [ 4.64862650e+02, -1.64993025e+02],\n",
       "        [ 4.21918885e+02, -2.05651516e+02],\n",
       "        [ 4.27492643e+02, -2.34108455e+02]],\n",
       "\n",
       "       [[ 1.36727834e+03,  9.05980696e+02],\n",
       "        [ 1.16333007e+03,  1.03982409e+03],\n",
       "        [ 1.08830584e+03,  1.10844848e+03],\n",
       "        [ 9.89687927e+02,  1.18336542e+03],\n",
       "        [ 7.26227006e+02,  1.22546390e+03],\n",
       "        [ 6.25455070e+02,  1.25088509e+03],\n",
       "        [ 5.65288990e+02,  1.26432584e+03],\n",
       "        [ 5.48087831e+02,  1.09880562e+03],\n",
       "        [ 1.34824181e+02,  1.04484476e+03],\n",
       "        [ 8.20477736e+02,  1.25837392e+03],\n",
       "        [ 8.41500749e+02,  1.29509922e+03],\n",
       "        [ 8.51980043e+02,  1.30461233e+03],\n",
       "        [ 8.77254571e+02,  1.31748738e+03],\n",
       "        [ 1.32338922e+03,  3.99617597e+02],\n",
       "        [ 1.34128519e+03,  3.66503593e+02],\n",
       "        [ 1.36614429e+03,  3.33665151e+02],\n",
       "        [ 1.38794331e+03,  3.03239999e+02],\n",
       "        [ 1.40820021e+03,  2.68260811e+02],\n",
       "        [ 1.42295173e+03,  2.27390683e+02],\n",
       "        [ 1.42352025e+03,  1.88679135e+02],\n",
       "        [ 1.41551551e+03,  1.52308278e+02],\n",
       "        [ 1.42603197e+03,  1.22369903e+02],\n",
       "        [ 1.40541536e+03,  9.94659330e+01]]])"
      ]
     },
     "execution_count": 499,
     "metadata": {},
     "output_type": "execute_result"
    }
   ],
   "source": [
    "df = pd.read_csv(data_path)\n",
    "torso3d = np.array([get_3dpts(df, i) for i in range(13)]) # (13, 88, 3)\n",
    "torso2d = calibration_.project(torso3d).reshape(3, 13, -1, 2)\n",
    "torso2d = np.array([[torso2d[cam_num][:,i,:] for i in range(n_frames)] for cam_num in [0,1,2]])\n",
    "tail3d = get_tail3d()\n",
    "tail2d = calibration_.project(tail3d).reshape(3, -1, 10, 2)\n",
    "pts2d = np.concatenate((torso2d, tail2d), axis = 2)\n",
    "pts3d = np.concatenate((np.transpose(torso3d, [1,0,2]), tail3d), axis = 1)"
   ]
  },
  {
   "cell_type": "code",
   "execution_count": null,
   "id": "6c840b10",
   "metadata": {},
   "outputs": [],
   "source": [
    "path_ = '/mnt/soma_cifs/Iyer/DeepLabCut_Files/TrainingGround/tadpole_stage57_Cam0-Aditya-2022-11-04/labeled-data/'\n",
    "hdf5path_ = f'{get_path(0)}{tail_framenames[0]}/CollectedData_Aditya.h5'\n",
    "df0 = pd.read_hdf(hdf5path_)\n",
    "hdf5path_ = f'{get_path(1)}{tail_framenames[0]}/CollectedData_Aditya.h5'\n",
    "df1 = pd.read_hdf(hdf5path_)\n",
    "hdf5path_ = f'{get_path(2)}{tail_framenames[0]}/CollectedData_Aditya.h5'\n",
    "df2 = pd.read_hdf(hdf5path_)\n",
    "df = [df0, df1, df2]"
   ]
  },
  {
   "cell_type": "code",
   "execution_count": null,
   "id": "dfdb9a7c",
   "metadata": {},
   "outputs": [],
   "source": []
  },
  {
   "cell_type": "code",
   "execution_count": null,
   "id": "33ef2cb2",
   "metadata": {},
   "outputs": [],
   "source": []
  }
 ],
 "metadata": {
  "kernelspec": {
   "display_name": "Python 3 (ipykernel)",
   "language": "python",
   "name": "python3"
  },
  "language_info": {
   "codemirror_mode": {
    "name": "ipython",
    "version": 3
   },
   "file_extension": ".py",
   "mimetype": "text/x-python",
   "name": "python",
   "nbconvert_exporter": "python",
   "pygments_lexer": "ipython3",
   "version": "3.7.15"
  }
 },
 "nbformat": 4,
 "nbformat_minor": 5
}
