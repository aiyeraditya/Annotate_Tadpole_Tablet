{
 "cells": [
  {
   "cell_type": "code",
   "execution_count": 10,
   "id": "ecb5ef01-265c-4e06-be09-791db5041cc1",
   "metadata": {},
   "outputs": [],
   "source": [
    "import numpy as np\n",
    "import pandas as pd\n",
    "import os, cv2\n",
    "import aniposelib\n",
    "import scipy.io"
   ]
  },
  {
   "cell_type": "code",
   "execution_count": 2,
   "id": "4b48718f-2c5f-4d3a-bc46-19981f328a2d",
   "metadata": {},
   "outputs": [],
   "source": [
    "data_path = '/mnt/soma_cifs/Iyer/DANNCE_Files/tadpole_stage57_2022-11-04/DLTdv8_data_V1xypts.csv'\n",
    "calib_path = '/mnt/soma_cifs/Iyer/Filming/02112022b/calibrationwater_2030/calibration.toml'\n",
    "label3d_path = '/mnt/soma_cifs/Iyer/DANNCE_Files/tadpole-stage57_Nov2022b/label3d_data.mat';\n",
    "label3d_path1 = '/mnt/soma_cifs/Iyer/DANNCE_Files/backup/tadpole-stage57_Nov2022a/label3d_data.mat';\n",
    "\n",
    "n_frames = 46\n",
    "n_pts = 23\n",
    "tail_framenames = np.sort(os.listdir('/home/iyer_la/Documents/TailAnnotated/tadpole_stage57_Cam1-Aditya-2022-11-04/labeled-data/'))[:5]"
   ]
  },
  {
   "cell_type": "code",
   "execution_count": 337,
   "id": "12d805da-cec9-46d9-bf03-5b56c473ed3b",
   "metadata": {},
   "outputs": [],
   "source": [
    "def add_pts(data_path, calib_path, label3d_path, n_frames, n_pts):\n",
    "    df = pd.read_csv(data_path)\n",
    "    pts = np.array([get_columns(df, 'cam1'), get_columns(df, 'cam2'), get_columns(df, 'cam3')])\n",
    "    calibration_ = aniposelib.cameras.CameraGroup.load(calib_path);\n",
    "    xyz = calibration_.triangulate_ransac(pts)[0]\n",
    "    xyz = xyz.reshape(n_frames, 13, 3)\n",
    "    matfile_ = scipy.io.loadmat(label3d_path1)['label3d_data'];\n",
    "\n",
    "    J = []\n",
    "    for i in tail_framenames:\n",
    "        I = sorted([j for j in os.listdir(f'/home/iyer_la/Documents/TailAnnotated/tadpole_stage57_Cam1-Aditya-2022-11-04/labeled-data/{i}') if 'png' in j])\n",
    "        for j in I:\n",
    "            J.append(f'/home/iyer_la/Documents/TailAnnotated/DANNCE/points_{i}_{j[3:7]}.npy')\n",
    "    z = np.zeros((len(J), 10, 3)) * np.nan\n",
    "    for i, j in enumerate(J):\n",
    "        try:\n",
    "            z[i] = np.load(j)\n",
    "        except:\n",
    "            print(j)\n",
    "\n",
    "    z = z.reshape(-1, 30)\n",
    "    df_np = np.concatenate((df_np, z), axis = 1)\n",
    "    df_np = df_np.reshape(-1, 3)\n",
    "    df_cam = calibration_.project(df_np)\n",
    "    df_cam = np.rint(df_cam).astype('int32')\n",
    "\n",
    "    for cam_num in [0,1,2]:\n",
    "        matfile_['labelData'][0][0][cam_num][0]['data_2d'][0][0] = df_cam[cam_num].reshape(n_frames, n_pts*2)\n",
    "        matfile_['labelData'][0][0][cam_num][0]['data_3d'][0][0] = df.to_numpy()\n",
    "        matfile_['labelData'][0][0][cam_num][0]['data_frame'][0][0] = np.transpose(matfile_['labelData'][0][0][cam_num][0]['data_frame'][0][0]) - 1\n",
    "        matfile_['labelData'][0][0][cam_num][0]['data_sampleID'][0][0] = np.transpose(matfile_['labelData'][0][0][cam_num][0]['data_sampleID'][0][0]) - 1\n",
    "\n",
    "    scipy.io.savemat(label3d_path, {'camnames':matfile_['camnames'][0][0], 'params':matfile_['params'][0][0], 'sync':matfile_['sync'][0][0], 'labelData':matfile_['labelData'][0][0]})"
   ]
  },
  {
   "cell_type": "code",
   "execution_count": 338,
   "id": "55e60fac-f8dd-4713-8ac1-503954f2835c",
   "metadata": {},
   "outputs": [],
   "source": [
    "add_pts(data_path, calib_path, label3d_path, n_frames, n_pts)\n",
    "matfile_ = scipy.io.loadmat(label3d_path)"
   ]
  },
  {
   "cell_type": "code",
   "execution_count": null,
   "id": "f56b1f30-f058-47e6-8285-c554cecbe3ea",
   "metadata": {},
   "outputs": [],
   "source": []
  },
  {
   "cell_type": "code",
   "execution_count": 357,
   "id": "fb0be3b1-7881-4705-9c01-b04e1c70ae7a",
   "metadata": {},
   "outputs": [],
   "source": [
    "J = []\n",
    "for i in tail_framenames:\n",
    "    I = sorted([j for j in os.listdir(f'/home/iyer_la/Documents/TailAnnotated/tadpole_stage57_Cam1-Aditya-2022-11-04/labeled-data/{i}') if 'png' in j])\n",
    "    for j in I:\n",
    "        J.append(f'/home/iyer_la/Documents/TailAnnotated/DANNCE/points_{i}_{j[3:7]}.npy')"
   ]
  },
  {
   "cell_type": "code",
   "execution_count": 361,
   "id": "aee0ca55-923f-4ee1-a96e-a7687fe2594b",
   "metadata": {
    "collapsed": true,
    "jupyter": {
     "outputs_hidden": true
    },
    "tags": []
   },
   "outputs": [
    {
     "name": "stdout",
     "output_type": "stream",
     "text": [
      "0 /home/iyer_la/Documents/TailAnnotated/DANNCE/points_22_10635-11787_0027.npy\n",
      "1 /home/iyer_la/Documents/TailAnnotated/DANNCE/points_22_10635-11787_0127.npy\n",
      "2 /home/iyer_la/Documents/TailAnnotated/DANNCE/points_22_10635-11787_0249.npy\n",
      "3 /home/iyer_la/Documents/TailAnnotated/DANNCE/points_22_10635-11787_0404.npy\n",
      "4 /home/iyer_la/Documents/TailAnnotated/DANNCE/points_22_10635-11787_0513.npy\n",
      "5 /home/iyer_la/Documents/TailAnnotated/DANNCE/points_22_10635-11787_0583.npy\n",
      "6 /home/iyer_la/Documents/TailAnnotated/DANNCE/points_22_10635-11787_0777.npy\n",
      "7 /home/iyer_la/Documents/TailAnnotated/DANNCE/points_22_10635-11787_0842.npy\n",
      "8 /home/iyer_la/Documents/TailAnnotated/DANNCE/points_22_10635-11787_0987.npy\n",
      "9 /home/iyer_la/Documents/TailAnnotated/DANNCE/points_33_5226-7495_0039.npy\n",
      "10 /home/iyer_la/Documents/TailAnnotated/DANNCE/points_33_5226-7495_0201.npy\n",
      "11 /home/iyer_la/Documents/TailAnnotated/DANNCE/points_33_5226-7495_0452.npy\n",
      "12 /home/iyer_la/Documents/TailAnnotated/DANNCE/points_33_5226-7495_0685.npy\n",
      "13 /home/iyer_la/Documents/TailAnnotated/DANNCE/points_33_5226-7495_0981.npy\n",
      "14 /home/iyer_la/Documents/TailAnnotated/DANNCE/points_33_5226-7495_1270.npy\n",
      "15 /home/iyer_la/Documents/TailAnnotated/DANNCE/points_33_5226-7495_1406.npy\n",
      "16 /home/iyer_la/Documents/TailAnnotated/DANNCE/points_33_5226-7495_1896.npy\n",
      "17 /home/iyer_la/Documents/TailAnnotated/DANNCE/points_33_5226-7495_2150.npy\n",
      "18 /home/iyer_la/Documents/TailAnnotated/DANNCE/points_37_9307-11999_0346.npy\n",
      "19 /home/iyer_la/Documents/TailAnnotated/DANNCE/points_37_9307-11999_0625.npy\n",
      "20 /home/iyer_la/Documents/TailAnnotated/DANNCE/points_37_9307-11999_0908.npy\n",
      "21 /home/iyer_la/Documents/TailAnnotated/DANNCE/points_37_9307-11999_1535.npy\n",
      "22 /home/iyer_la/Documents/TailAnnotated/DANNCE/points_37_9307-11999_1788.npy\n",
      "23 /home/iyer_la/Documents/TailAnnotated/DANNCE/points_37_9307-11999_2097.npy\n",
      "24 /home/iyer_la/Documents/TailAnnotated/DANNCE/points_37_9307-11999_2408.npy\n",
      "25 /home/iyer_la/Documents/TailAnnotated/DANNCE/points_40_4100-5280_0066.npy\n",
      "26 /home/iyer_la/Documents/TailAnnotated/DANNCE/points_40_4100-5280_0108.npy\n",
      "27 /home/iyer_la/Documents/TailAnnotated/DANNCE/points_40_4100-5280_0258.npy\n",
      "28 /home/iyer_la/Documents/TailAnnotated/DANNCE/points_40_4100-5280_0376.npy\n",
      "29 /home/iyer_la/Documents/TailAnnotated/DANNCE/points_40_4100-5280_0450.npy\n",
      "30 /home/iyer_la/Documents/TailAnnotated/DANNCE/points_40_4100-5280_0468.npy\n",
      "31 /home/iyer_la/Documents/TailAnnotated/DANNCE/points_40_4100-5280_0680.npy\n",
      "32 /home/iyer_la/Documents/TailAnnotated/DANNCE/points_40_4100-5280_0814.npy\n",
      "33 /home/iyer_la/Documents/TailAnnotated/DANNCE/points_40_4100-5280_1021.npy\n",
      "34 /home/iyer_la/Documents/TailAnnotated/DANNCE/points_41_5754-9727_0213.npy\n",
      "35 /home/iyer_la/Documents/TailAnnotated/DANNCE/points_41_5754-9727_0552.npy\n",
      "36 /home/iyer_la/Documents/TailAnnotated/DANNCE/points_41_5754-9727_0702.npy\n",
      "37 /home/iyer_la/Documents/TailAnnotated/DANNCE/points_41_5754-9727_1537.npy\n",
      "38 /home/iyer_la/Documents/TailAnnotated/DANNCE/points_41_5754-9727_1672.npy\n",
      "39 /home/iyer_la/Documents/TailAnnotated/DANNCE/points_41_5754-9727_1845.npy\n",
      "40 /home/iyer_la/Documents/TailAnnotated/DANNCE/points_41_5754-9727_2178.npy\n",
      "41 /home/iyer_la/Documents/TailAnnotated/DANNCE/points_41_5754-9727_2585.npy\n",
      "42 /home/iyer_la/Documents/TailAnnotated/DANNCE/points_41_5754-9727_2594.npy\n",
      "43 /home/iyer_la/Documents/TailAnnotated/DANNCE/points_41_5754-9727_3191.npy\n",
      "44 /home/iyer_la/Documents/TailAnnotated/DANNCE/points_41_5754-9727_3948.npy\n",
      "45 /home/iyer_la/Documents/TailAnnotated/DANNCE/points_43_3102-6419_0190.npy\n",
      "46 /home/iyer_la/Documents/TailAnnotated/DANNCE/points_43_3102-6419_0685.npy\n",
      "47 /home/iyer_la/Documents/TailAnnotated/DANNCE/points_43_3102-6419_1055.npy\n",
      "48 /home/iyer_la/Documents/TailAnnotated/DANNCE/points_43_3102-6419_1321.npy\n",
      "49 /home/iyer_la/Documents/TailAnnotated/DANNCE/points_43_3102-6419_1421.npy\n",
      "50 /home/iyer_la/Documents/TailAnnotated/DANNCE/points_43_3102-6419_1648.npy\n",
      "51 /home/iyer_la/Documents/TailAnnotated/DANNCE/points_43_3102-6419_2093.npy\n",
      "52 /home/iyer_la/Documents/TailAnnotated/DANNCE/points_43_3102-6419_2236.npy\n",
      "53 /home/iyer_la/Documents/TailAnnotated/DANNCE/points_43_3102-6419_2429.npy\n",
      "54 /home/iyer_la/Documents/TailAnnotated/DANNCE/points_43_3102-6419_2627.npy\n",
      "55 /home/iyer_la/Documents/TailAnnotated/DANNCE/points_43_3102-6419_2934.npy\n",
      "56 /home/iyer_la/Documents/TailAnnotated/DANNCE/points_45_7825-10101_0112.npy\n",
      "57 /home/iyer_la/Documents/TailAnnotated/DANNCE/points_45_7825-10101_0500.npy\n",
      "58 /home/iyer_la/Documents/TailAnnotated/DANNCE/points_45_7825-10101_0887.npy\n",
      "59 /home/iyer_la/Documents/TailAnnotated/DANNCE/points_45_7825-10101_0946.npy\n",
      "60 /home/iyer_la/Documents/TailAnnotated/DANNCE/points_45_7825-10101_1407.npy\n",
      "61 /home/iyer_la/Documents/TailAnnotated/DANNCE/points_45_7825-10101_1498.npy\n",
      "62 /home/iyer_la/Documents/TailAnnotated/DANNCE/points_45_7825-10101_2045.npy\n",
      "63 /home/iyer_la/Documents/TailAnnotated/DANNCE/points_48_6133-7909_0135.npy\n",
      "64 /home/iyer_la/Documents/TailAnnotated/DANNCE/points_48_6133-7909_0316.npy\n",
      "65 /home/iyer_la/Documents/TailAnnotated/DANNCE/points_48_6133-7909_0443.npy\n",
      "66 /home/iyer_la/Documents/TailAnnotated/DANNCE/points_48_6133-7909_0799.npy\n",
      "67 /home/iyer_la/Documents/TailAnnotated/DANNCE/points_48_6133-7909_1019.npy\n",
      "68 /home/iyer_la/Documents/TailAnnotated/DANNCE/points_48_6133-7909_1119.npy\n",
      "69 /home/iyer_la/Documents/TailAnnotated/DANNCE/points_48_6133-7909_1166.npy\n",
      "70 /home/iyer_la/Documents/TailAnnotated/DANNCE/points_48_6133-7909_1335.npy\n",
      "71 /home/iyer_la/Documents/TailAnnotated/DANNCE/points_48_6133-7909_1422.npy\n",
      "72 /home/iyer_la/Documents/TailAnnotated/DANNCE/points_69_6958-10675_0060.npy\n",
      "73 /home/iyer_la/Documents/TailAnnotated/DANNCE/points_69_6958-10675_2142.npy\n",
      "74 /home/iyer_la/Documents/TailAnnotated/DANNCE/points_69_6958-10675_2582.npy\n",
      "75 /home/iyer_la/Documents/TailAnnotated/DANNCE/points_69_6958-10675_3501.npy\n",
      "76 /home/iyer_la/Documents/TailAnnotated/DANNCE/points_69_6958-10675_3692.npy\n",
      "77 /home/iyer_la/Documents/TailAnnotated/DANNCE/points_76_9605-11135_0114.npy\n",
      "78 /home/iyer_la/Documents/TailAnnotated/DANNCE/points_76_9605-11135_0216.npy\n",
      "79 /home/iyer_la/Documents/TailAnnotated/DANNCE/points_76_9605-11135_0460.npy\n",
      "80 /home/iyer_la/Documents/TailAnnotated/DANNCE/points_76_9605-11135_0531.npy\n",
      "81 /home/iyer_la/Documents/TailAnnotated/DANNCE/points_76_9605-11135_0593.npy\n",
      "82 /home/iyer_la/Documents/TailAnnotated/DANNCE/points_76_9605-11135_0650.npy\n",
      "83 /home/iyer_la/Documents/TailAnnotated/DANNCE/points_76_9605-11135_0892.npy\n",
      "84 /home/iyer_la/Documents/TailAnnotated/DANNCE/points_76_9605-11135_0921.npy\n",
      "85 /home/iyer_la/Documents/TailAnnotated/DANNCE/points_76_9605-11135_1095.npy\n",
      "86 /home/iyer_la/Documents/TailAnnotated/DANNCE/points_76_9605-11135_1349.npy\n",
      "87 /home/iyer_la/Documents/TailAnnotated/DANNCE/points_76_9605-11135_1527.npy\n"
     ]
    }
   ],
   "source": [
    "for i, j in enumerate(J):\n",
    "    print(i, j)"
   ]
  },
  {
   "cell_type": "code",
   "execution_count": 435,
   "id": "454dd719-6b34-48dd-bbaf-3f2859dcf2cd",
   "metadata": {},
   "outputs": [
    {
     "name": "stdout",
     "output_type": "stream",
     "text": [
      "/home/iyer_la/Documents/TailAnnotated/DANNCE/points_22_10635-11787_0027.npy\n"
     ]
    }
   ],
   "source": [
    "J = []\n",
    "for i in tail_framenames:\n",
    "    I = sorted([j for j in os.listdir(f'/home/iyer_la/Documents/TailAnnotated/tadpole_stage57_Cam1-Aditya-2022-11-04/labeled-data/{i}') if 'png' in j])\n",
    "    for j in I:\n",
    "        J.append(f'/home/iyer_la/Documents/TailAnnotated/DANNCE/points_{i}_{j[3:7]}.npy')\n",
    "z = np.zeros((len(J), 10, 3)) * np.nan\n",
    "for i, j in enumerate(J):\n",
    "    try:\n",
    "        z[i] = np.load(j)\n",
    "    except:\n",
    "        print(j)"
   ]
  },
  {
   "cell_type": "code",
   "execution_count": 437,
   "id": "9d8ec00d-bd13-4eed-8060-c70648bf8fee",
   "metadata": {
    "tags": []
   },
   "outputs": [
    {
     "data": {
      "text/plain": [
       "(88, 10, 3)"
      ]
     },
     "execution_count": 437,
     "metadata": {},
     "output_type": "execute_result"
    }
   ],
   "source": [
    "z.shape"
   ]
  },
  {
   "cell_type": "code",
   "execution_count": 277,
   "id": "b19c47f5-9bd3-4e27-8f8c-077d38afd1cf",
   "metadata": {
    "tags": []
   },
   "outputs": [
    {
     "data": {
      "text/plain": [
       "array([[   271,    721,   1681,   2301,   2341,   5761,   6961,   8641,\n",
       "          9571,   9661,   9841,  10741,  11881,  12251,  12791,  13501,\n",
       "         14341,  14471,  14811,  17951,  19401,  20031,  20081,  22491,\n",
       "         23621,  24981,  25751,  26711,  30541,  31181,  32391,  34791,\n",
       "         35161,  35831,  39011,  42701,  47511,  49331,  50881,  51651,\n",
       "         68451,  70641,  72161,  72741,  74771,  76081,  78331,  81811,\n",
       "         82581,  82821,  84091,  87201,  89221,  90151,  90861,  93251,\n",
       "         93951,  94011,  96281,  96601,  97091,  99041, 101681, 107011,\n",
       "        107681, 110201, 127671, 127741, 136071, 137381, 142561, 146701,\n",
       "        152521, 155021, 157521, 163461, 166161, 167251, 169871, 178341,\n",
       "        178581]], dtype=int32)"
      ]
     },
     "execution_count": 277,
     "metadata": {},
     "output_type": "execute_result"
    }
   ],
   "source": [
    "load_label3d_data(path='/home/iyer_la/Downloads/label3d_dannce.mat', key='labelData')[0]['data_sampleID']"
   ]
  },
  {
   "cell_type": "code",
   "execution_count": 283,
   "id": "9777f35b-b699-49be-b883-cacaa366dbc9",
   "metadata": {
    "tags": []
   },
   "outputs": [
    {
     "data": {
      "text/plain": [
       "array([[ 0,  1,  2,  3,  4,  5,  6,  7,  8,  9, 10, 11, 12, 13, 14, 15,\n",
       "        16, 17, 18, 19, 20, 21, 22, 23, 24, 25, 26, 27, 28, 29, 30, 31,\n",
       "        32, 33, 34, 35, 36, 37, 38, 39, 40, 41, 42, 43, 44, 45]],\n",
       "      dtype=uint16)"
      ]
     },
     "execution_count": 283,
     "metadata": {},
     "output_type": "execute_result"
    }
   ],
   "source": [
    "load_label3d_data(path=label3d_path, key='labelData')[0]['data_sampleID']"
   ]
  },
  {
   "cell_type": "code",
   "execution_count": 12,
   "id": "f98226e7-5a06-4280-be47-b4b55e1bc086",
   "metadata": {},
   "outputs": [],
   "source": [
    "from typing import List, Dict, Text, Union\n",
    "def load_label3d_data(path: Text, key: Text):\n",
    "    \"\"\"Load Label3D data\n",
    "    Args:\n",
    "        path (Text): Path to Label3D file\n",
    "        key (Text): Field to access\n",
    "    Returns:\n",
    "        TYPE: Data from field\n",
    "    \"\"\"\n",
    "    d = scipy.io.loadmat(path)[key]\n",
    "    dataset = [f[0] for f in d]\n",
    "\n",
    "    # Data are loaded in this annoying structure where the array\n",
    "    # we want is at dataset[i][key][0,0], as a nested array of arrays.\n",
    "    # Simplify this structure (a numpy record array) here.\n",
    "    # Additionally, cannot use views here because of shape mismatches. Define\n",
    "    # new dict and return.\n",
    "    data = []\n",
    "    for d in dataset:\n",
    "        d_ = {}\n",
    "        for key in d.dtype.names:\n",
    "            d_[key] = d[key][0, 0]\n",
    "        data.append(d_)\n",
    "    return data"
   ]
  },
  {
   "cell_type": "code",
   "execution_count": 133,
   "id": "3cb7269d-9a6b-4494-970a-dc7b810ccd81",
   "metadata": {},
   "outputs": [
    {
     "data": {
      "text/plain": [
       "['Camera1', 'Camera2', 'Camera3']"
      ]
     },
     "execution_count": 133,
     "metadata": {},
     "output_type": "execute_result"
    }
   ],
   "source": [
    "load_camnames(label3d_path)"
   ]
  },
  {
   "cell_type": "code",
   "execution_count": 122,
   "id": "4848a1d1-5437-43d7-88f1-6b70003c6efb",
   "metadata": {},
   "outputs": [],
   "source": [
    "def load_camnames(path: Text) -> Union[List, None]:\n",
    "    \"\"\"Load camera names from .mat file.\n",
    "    Args:\n",
    "        path (Text): Path to .mat file with \"camnames\" field\n",
    "    Returns:\n",
    "        Union[List, None]: List of cameranames\n",
    "    \"\"\"\n",
    "    label_3d_file = scipy.io.loadmat(path)\n",
    "    if \"camnames\" in label_3d_file:\n",
    "        names = label_3d_file[\"camnames\"][:]\n",
    "        if len(names) != len(label_3d_file[\"labelData\"]):\n",
    "            camnames = [name[0] for name in names[0]]\n",
    "        else:\n",
    "            camnames = [name[0][0] for name in names]\n",
    "    else:\n",
    "        camnames = None\n",
    "    return camnames"
   ]
  },
  {
   "cell_type": "code",
   "execution_count": 243,
   "id": "6133efe0-0255-4633-8bee-c80682f2b2ef",
   "metadata": {},
   "outputs": [
    {
     "data": {
      "text/plain": [
       "array([[ 0,  1,  2,  3,  4,  5,  6,  7,  8,  9, 10, 11, 12, 13, 14, 15,\n",
       "        16, 17, 18, 19, 20, 21, 22, 23, 24, 25, 26, 27, 28, 29, 30, 31,\n",
       "        32, 33, 34, 35, 36, 37, 38, 39, 40, 41, 42, 43, 44, 45, 46, 47,\n",
       "        48, 49, 50, 51, 52, 53, 54, 55, 56, 57, 58, 59, 60, 61, 62, 63,\n",
       "        64, 65, 66, 67, 68, 69, 70, 71, 72, 73, 74, 75, 76, 77, 78, 79,\n",
       "        80, 81, 82, 83, 84, 85, 86, 87]], dtype=uint16)"
      ]
     },
     "execution_count": 243,
     "metadata": {},
     "output_type": "execute_result"
    }
   ],
   "source": [
    "matfile_['labelData'][2][0][0][0]['data_frame']"
   ]
  },
  {
   "cell_type": "code",
   "execution_count": 253,
   "id": "ced3a2c5-6a67-43a2-93cb-bf7506937f7f",
   "metadata": {},
   "outputs": [],
   "source": [
    "v = cv2.VideoCapture('/mnt/soma_cifs/Iyer/DANNCE_Files/tadpole-stage57_Nov2022a/videos/Camera1/0.avi')\n",
    "total = int(v.get(cv2.CAP_PROP_FRAME_COUNT))"
   ]
  },
  {
   "cell_type": "code",
   "execution_count": 14,
   "id": "822a6781-a717-4b56-b825-693713361a33",
   "metadata": {},
   "outputs": [],
   "source": [
    "def get_frame(idx: int, grayscale: bool = None) -> np.ndarray:\n",
    "    \"\"\"See :class:`Video`.\"\"\"\n",
    "\n",
    "    v.set(cv2.CAP_PROP_POS_FRAMES, idx)\n",
    "    success, frame = v.read()\n",
    "\n",
    "    if not success or frame is None:\n",
    "        raise KeyError(f\"Unable to load frame {idx}\")\n",
    "\n",
    "\n",
    "    return frame"
   ]
  },
  {
   "cell_type": "code",
   "execution_count": null,
   "id": "804b75ac-5154-4a3a-adf4-79c364808343",
   "metadata": {},
   "outputs": [],
   "source": []
  },
  {
   "cell_type": "code",
   "execution_count": null,
   "id": "efa27cf8-9568-4f3b-81d0-1a47bc37d643",
   "metadata": {},
   "outputs": [],
   "source": []
  },
  {
   "cell_type": "code",
   "execution_count": 15,
   "id": "f1e5d630-4a8d-4158-ad96-4a8a8dc5edd4",
   "metadata": {},
   "outputs": [
    {
     "data": {
      "text/plain": [
       "[<matplotlib.lines.Line2D at 0x7ff91b115d50>]"
      ]
     },
     "execution_count": 15,
     "metadata": {},
     "output_type": "execute_result"
    },
    {
     "data": {
      "image/png": "[encoded data removed]",
      "text/plain": [
       "<Figure size 640x480 with 1 Axes>"
      ]
     },
     "metadata": {},
     "output_type": "display_data"
    }
   ],
   "source": [
    "path_ = '/home/iyer_la/Documents/TailAnnotated/DANNCE/'\n",
    "files_ = [path_ + i for i in os.listdir(path_) if 'points' in i]\n",
    "z = []\n",
    "for fi in files_:\n",
    "    n = np.load(fi)\n",
    "    z.append(np.linalg.norm(np.diff(n), axis = 1))\n",
    "z = np.array(z).reshape(-1)\n",
    "plt.plot(z)\n",
    "plt.hist(z)"
   ]
  },
  {
   "cell_type": "code",
   "execution_count": 261,
   "id": "ab98b18c-4acc-43bc-bfe0-f94f6fb3bf44",
   "metadata": {},
   "outputs": [],
   "source": [
    "matfile_ = scipy.io.loadmat('/mnt/soma_cifs/Iyer/DANNCE_Files/tadpole-stage57_Nov2022b/label3d_dannce.mat')"
   ]
  },
  {
   "cell_type": "code",
   "execution_count": 473,
   "id": "e1e8ffb9-8636-4e25-ac3e-d6eaa05061aa",
   "metadata": {},
   "outputs": [],
   "source": [
    "v = cv2.VideoCapture('/mnt/soma_cifs/Iyer/DANNCE_Files/tadpole-stage57_Nov2022a/videos/Camera2/0.avi')\n",
    "df = load_label3d_data('/mnt/soma_cifs/Iyer/DANNCE_Files/tadpole-stage57_Nov2022a/label3d_data.mat', 'labelData')[1]['data_2d']"
   ]
  },
  {
   "cell_type": "code",
   "execution_count": 21,
   "id": "7562b6fa-2f69-418d-8eaa-39b35f77e060",
   "metadata": {},
   "outputs": [],
   "source": [
    "for cam_num in [1,2,3]:\n",
    "    v = cv2.VideoCapture(f'/mnt/soma_cifs/Iyer/DANNCE_Files/tadpole-stage57_Nov2022b/videos/Camera{cam_num}/0.avi')\n",
    "    df = load_label3d_data('/mnt/soma_cifs/Iyer/DANNCE_Files/tadpole-stage57_Nov2022b/label3d_data.mat', 'labelData')[cam_num - 1]['data_2d']\n",
    "    for idx in range(46):\n",
    "        x = df[idx][::2].astype(np.int32)\n",
    "        y = df[idx][1::2].astype(np.int32)\n",
    "        im_ = get_frame(idx)\n",
    "        for i in range(len(x)):\n",
    "            im_ = cv2.circle(im_, [x[i], y[i]], radius=4, color=(0, 255, 255), thickness=-1)\n",
    "        cv2.imwrite(f'/mnt/soma_cifs/Iyer/DANNCE_Files/tadpole-stage57_Nov2022b/test/c{cam_num}_{idx}.png', im_)"
   ]
  },
  {
   "cell_type": "code",
   "execution_count": 329,
   "id": "1f198309-9e45-4029-b93b-b04b11d7f5af",
   "metadata": {},
   "outputs": [
    {
     "data": {
      "text/plain": [
       "<matplotlib.image.AxesImage at 0x7fd97ca45290>"
      ]
     },
     "execution_count": 329,
     "metadata": {},
     "output_type": "execute_result"
    },
    {
     "data": {
      "image/png": "[encoded data removed]",
      "text/plain": [
       "<Figure size 640x480 with 1 Axes>"
      ]
     },
     "metadata": {},
     "output_type": "display_data"
    }
   ],
   "source": [
    "v = cv2.VideoCapture('/mnt/soma_cifs/Iyer/DANNCE_Files/tadpole-stage57_Nov2022a/videos/Camera1/0.avi')\n",
    "idx = 1\n",
    "im_ = get_frame(idx)\n",
    "x = calibration_.project(np.load('/home/iyer_la/Documents/TailAnnotated/DANNCE/points_1_0-1477_0151.npy'))[2]\n",
    "for i in range(10):\n",
    "    im_ = cv2.circle(im_, x[i].astype(np.int32), radius=4, color=(0, 255, 255), thickness=-1)\n",
    "fig, ax = plt.subplots()\n",
    "ax.imshow(im_)"
   ]
  },
  {
   "cell_type": "code",
   "execution_count": 364,
   "id": "2d158912-4ec1-4bc3-884d-2ebe42b7c9c1",
   "metadata": {},
   "outputs": [],
   "source": [
    "df = pd.read_csv(data_path);\n",
    "calibration_ = aniposelib.cameras.CameraGroup.load(calib_path);\n",
    "matfile_ = scipy.io.loadmat(label3d_path1)['label3d_data'];\n",
    "\n",
    "df_np = df.to_numpy()"
   ]
  },
  {
   "cell_type": "code",
   "execution_count": 454,
   "id": "c5f52266-4b22-4f55-a496-ef9a8e066d4a",
   "metadata": {},
   "outputs": [],
   "source": [
    "data_path = '/mnt/soma_cifs/Iyer/DANNCE_Files/tadpole_stage57_2022-11-04/DLTdv8_data_V1xypts.csv'\n",
    "df = pd.read_csv(data_path)"
   ]
  },
  {
   "cell_type": "code",
   "execution_count": 399,
   "id": "0a8598a5-8bdb-47e8-94f6-025f803a9e81",
   "metadata": {
    "collapsed": true,
    "jupyter": {
     "outputs_hidden": true
    },
    "tags": []
   },
   "outputs": [
    {
     "data": {
      "text/plain": [
       "array([[-2.51045265e+02, -3.85289625e+02,  6.79406928e+03],\n",
       "       [-4.11888026e+01, -3.62684899e+02,  6.92920305e+03],\n",
       "       [ 3.76278812e+01, -3.66814839e+02,  6.99772319e+03],\n",
       "       [ 1.38905069e+02, -3.47692864e+02,  7.07497354e+03],\n",
       "       [ 4.08194618e+02, -2.71166498e+02,  7.12179752e+03],\n",
       "       [ 5.13087296e+02, -2.56043667e+02,  7.14787726e+03],\n",
       "       [ 5.75930347e+02, -2.52940100e+02,  7.16088116e+03],\n",
       "       [ 5.90437522e+02, -2.99430500e+02,  6.98204664e+03],\n",
       "       [ 1.00894520e+03, -3.94824679e+02,  6.90728592e+03],\n",
       "       [ 3.14646416e+02, -3.48060814e+02,  7.14825217e+03],\n",
       "       [ 2.82546067e+02, -1.38662363e+02,  7.21676627e+03],\n",
       "       [ 2.69282996e+02, -9.66537873e+01,  7.23330703e+03],\n",
       "       [ 2.36517147e+02,  4.72647847e+00,  7.26273697e+03],\n",
       "       [ 2.33011447e+02,  1.79189375e+01,  7.27358752e+03],\n",
       "       [ 6.41936633e+02,  8.07173833e+01,  7.12249677e+03],\n",
       "       [ 6.76561244e+02,  9.84297940e+01,  7.13429277e+03],\n",
       "       [ 8.35413806e+02,  1.88446409e+02,  7.19745879e+03],\n",
       "       [ 9.06233128e+02,  2.18653797e+02,  7.21534454e+03],\n",
       "       [ 9.28428672e+02,  2.27701710e+02,  7.21324415e+03],\n",
       "       [ 9.66958280e+02,  2.45409718e+02,  7.20511172e+03],\n",
       "       [ 1.04958390e+03,  2.75967561e+02,  7.21195237e+03],\n",
       "       [ 7.96309139e+02, -5.77823875e+02,  6.65572489e+03],\n",
       "       [ 7.23654612e+02, -5.81567267e+02,  6.77139849e+03],\n",
       "       [ 6.49812027e+02, -5.98368033e+02,  6.90356007e+03],\n",
       "       [ 6.36899504e+02, -6.10028498e+02,  6.90821330e+03],\n",
       "       [ 5.72587540e+02, -6.21706407e+02,  6.85853024e+03],\n",
       "       [ 5.85542275e+02, -3.73797537e+02,  6.89627106e+03],\n",
       "       [ 5.98011401e+02, -3.17657436e+02,  6.92095896e+03],\n",
       "       [ 6.70886790e+02, -1.58009317e+01,  7.01379505e+03],\n",
       "       [ 6.97737872e+02,  9.43288184e+01,  7.07108021e+03],\n",
       "       [ 7.35083107e+02,  2.90007838e+02,  7.19319826e+03],\n",
       "       [ 7.52363233e+02,  3.83691183e+02,  7.23382269e+03],\n",
       "       [ 7.82258774e+02,  4.82196705e+02,  7.33296045e+03],\n",
       "       [ 7.64699143e+02,  8.00632922e+02,  7.35200758e+03],\n",
       "       [ 6.70227896e+02,  7.73274651e+02,  7.31898978e+03],\n",
       "       [ 6.55906992e+02,  7.77742008e+02,  7.31892258e+03],\n",
       "       [ 5.86428018e+02,  7.81792804e+02,  7.35410254e+03],\n",
       "       [ 5.61274613e+02,  7.85800346e+02,  7.34521411e+03],\n",
       "       [ 5.46582680e+02,  7.82401905e+02,  7.34281374e+03],\n",
       "       [ 5.31886978e+02,  7.47751826e+02,  7.32277251e+03],\n",
       "       [ 1.40967771e+02,  6.26699695e+02,  6.92103586e+03],\n",
       "       [ 1.01777140e+02,  6.03992461e+02,  6.75559325e+03],\n",
       "       [ 9.72746498e+01,  6.04869911e+02,  6.74473630e+03],\n",
       "       [ 8.67717587e+01,  6.17060499e+02,  6.67947268e+03],\n",
       "       [ 7.37717194e+01,  6.20875958e+02,  6.66827661e+03],\n",
       "       [ 7.05571531e+01,  6.25373938e+02,  6.65153436e+03]])"
      ]
     },
     "execution_count": 399,
     "metadata": {},
     "output_type": "execute_result"
    }
   ],
   "source": [
    "pts_ = np.array([df[df.columns[0:2]].to_numpy(), df[df.columns[2:4]].to_numpy(), df[df.columns[4:6]].to_numpy()]\n",
    "calibration_.triangulate_ransac(pts_)[0]"
   ]
  },
  {
   "cell_type": "code",
   "execution_count": 5,
   "id": "75a84ac9-fa92-4516-95a1-3ed6aaeeb99f",
   "metadata": {
    "tags": []
   },
   "outputs": [],
   "source": [
    "def get_columns(df, txt):\n",
    "    c1_c = [i for i in df.columns if txt in i]\n",
    "    c1_cx = [i for i in c1_c if '_X' in i]\n",
    "    c1_cy = [i for i in c1_c if '_Y' in i]\n",
    "    x = df[c1_cx].to_numpy().T.reshape(-1)\n",
    "    y = df[c1_cy].to_numpy().T.reshape(-1)\n",
    "    return np.array([x,y]).T"
   ]
  },
  {
   "cell_type": "code",
   "execution_count": 6,
   "id": "1a9d663a-281c-43ab-b358-ee47129fc83b",
   "metadata": {},
   "outputs": [],
   "source": [
    "def get_tailpts(tail_framenames):\n",
    "    J = []\n",
    "    for i in tail_framenames:\n",
    "        I = sorted([j for j in os.listdir(f'/home/iyer_la/Documents/TailAnnotated/tadpole_stage57_Cam1-Aditya-2022-11-04/labeled-data/{i}') if 'png' in j])\n",
    "        for j in I:\n",
    "            J.append(f'/home/iyer_la/Documents/TailAnnotated/DANNCE/points_{i}_{j[3:7]}.npy')\n",
    "    z = np.zeros((len(J), 10, 3)) * np.nan\n",
    "    for i, j in enumerate(J):\n",
    "        try:\n",
    "            z[i] = np.load(j)\n",
    "        except:\n",
    "            print(j)\n",
    "    return z"
   ]
  },
  {
   "cell_type": "code",
   "execution_count": 19,
   "id": "4cacd84a-38be-4c4c-8bc4-865896f06e32",
   "metadata": {},
   "outputs": [],
   "source": [
    "def add_pts(data_path, calib_path, label3d_path, n_frames, n_pts):\n",
    "    df = pd.read_csv(data_path);\n",
    "    pts = np.array([get_columns(df, 'cam1'), get_columns(df, 'cam2'), get_columns(df, 'cam3')]);\n",
    "    calibration_ = aniposelib.cameras.CameraGroup.load(calib_path);\n",
    "    xyz = calibration_.triangulate_ransac(pts)[0];\n",
    "    xyz = xyz.reshape(n_frames, 13, 3);\n",
    "    \n",
    "    tail_pts = get_tailpts(tail_framenames);\n",
    "    all_pts = np.concatenate((xyz, tail_pts), axis = 1);\n",
    "    all_pts = all_pts.reshape(-1,3)\n",
    "    \n",
    "    df_cam = calibration_.project(all_pts)\n",
    "    matfile_ = scipy.io.loadmat(label3d_path1)['label3d_data'];\n",
    "    for cam_num in [0,1,2]:\n",
    "        matfile_['labelData'][0][0][cam_num][0]['data_2d'][0][0] = df_cam[cam_num].reshape(n_frames, n_pts*2)\n",
    "        matfile_['labelData'][0][0][cam_num][0]['data_3d'][0][0] = all_pts.reshape(n_frames, n_pts*3)\n",
    "        matfile_['labelData'][0][0][cam_num][0]['data_frame'][0][0] = np.transpose(matfile_['labelData'][0][0][cam_num][0]['data_frame'][0][0]) - 1\n",
    "        matfile_['labelData'][0][0][cam_num][0]['data_sampleID'][0][0] = np.transpose(matfile_['labelData'][0][0][cam_num][0]['data_sampleID'][0][0]) - 1\n",
    "\n",
    "    scipy.io.savemat(label3d_path, {'camnames':matfile_['camnames'][0][0], 'params':matfile_['params'][0][0], 'sync':matfile_['sync'][0][0], 'labelData':matfile_['labelData'][0][0]})"
   ]
  },
  {
   "cell_type": "code",
   "execution_count": 20,
   "id": "992f0b33-d396-4ab5-ac49-792133b0050a",
   "metadata": {},
   "outputs": [],
   "source": [
    "add_pts(data_path, calib_path, label3d_path, n_frames, n_pts)\n",
    "matfile_ = scipy.io.loadmat(label3d_path)"
   ]
  },
  {
   "cell_type": "code",
   "execution_count": 483,
   "id": "40e8c3c8-7896-4355-aed0-12365411f4ed",
   "metadata": {},
   "outputs": [],
   "source": [
    "df = pd.read_csv(data_path);\n",
    "pts = np.array([get_columns(df, 'cam1'), get_columns(df, 'cam2'), get_columns(df, 'cam3')]);\n",
    "calibration_ = aniposelib.cameras.CameraGroup.load(calib_path);\n",
    "xyz = calibration_.triangulate_ransac(pts)[0];\n",
    "xyz = xyz.reshape(n_frames, 13, 3);\n",
    "\n",
    "tail_pts = get_tailpts(tail_framenames);\n",
    "all_pts = np.concatenate((xyz, tail_pts), axis = 1);\n",
    "all_pts = all_pts.reshape(-1,3)"
   ]
  },
  {
   "cell_type": "code",
   "execution_count": 499,
   "id": "bb027ada-ac55-4b12-bf85-0b82562766ff",
   "metadata": {},
   "outputs": [
    {
     "data": {
      "text/plain": [
       "array([[[ 7.29463794e+02,  4.93701648e+02],\n",
       "        [ 9.28351356e+02,  5.15603458e+02],\n",
       "        [ 1.00032399e+03,  5.13727406e+02],\n",
       "        [ 1.09224916e+03,  5.32334160e+02],\n",
       "        [ 1.33648503e+03,  5.90463771e+02],\n",
       "        [ 1.42942486e+03,  6.00435174e+02],\n",
       "        [ 1.48461539e+03,  6.00898952e+02],\n",
       "        [ 1.50809932e+03,  5.44196057e+02],\n",
       "        [ 1.89225690e+03,  4.28148992e+02],\n",
       "        [ 1.24758838e+03,  5.29051951e+02],\n",
       "        [ 1.22800896e+03,  7.20920626e+02],\n",
       "        [ 1.21799839e+03,  7.59561242e+02],\n",
       "        [ 1.19364446e+03,  8.51832699e+02],\n",
       "        [ 7.64189259e+02,  2.31334243e+02],\n",
       "        [ 7.43135209e+02,  2.45331095e+02],\n",
       "        [ 7.14025647e+02,  2.66947751e+02],\n",
       "        [ 6.87964020e+02,  2.85717784e+02],\n",
       "        [ 6.63481735e+02,  2.96130357e+02],\n",
       "        [ 6.44558212e+02,  2.99576868e+02],\n",
       "        [ 6.41248379e+02,  2.95027726e+02],\n",
       "        [ 6.47025448e+02,  2.92174377e+02],\n",
       "        [ 6.36656261e+02,  2.57205344e+02],\n",
       "        [ 6.56648146e+02,  2.57890950e+02]],\n",
       "\n",
       "       [[ 6.61578790e+02,  8.93377194e+02],\n",
       "        [ 6.83838992e+02,  1.06231886e+03],\n",
       "        [ 6.76204727e+02,  1.14556628e+03],\n",
       "        [ 6.97162054e+02,  1.23374447e+03],\n",
       "        [ 7.73110452e+02,  1.26025158e+03],\n",
       "        [ 7.83691326e+02,  1.27978302e+03],\n",
       "        [ 7.82827574e+02,  1.28838145e+03],\n",
       "        [ 7.20796258e+02,  1.08215545e+03],\n",
       "        [ 5.88825653e+02,  9.80517385e+02],\n",
       "        [ 6.88063122e+02,  1.30611409e+03],\n",
       "        [ 9.49166146e+02,  1.38222557e+03],\n",
       "        [ 1.00263139e+03,  1.40182886e+03],\n",
       "        [ 1.13207588e+03,  1.43662289e+03],\n",
       "        [ 3.55217371e+02,  1.93764308e+02],\n",
       "        [ 3.77421193e+02,  1.46346033e+02],\n",
       "        [ 4.09371916e+02,  9.73993074e+01],\n",
       "        [ 4.37415698e+02,  5.14392326e+01],\n",
       "        [ 4.54922051e+02, -8.74045546e-01],\n",
       "        [ 4.64172334e+02, -6.08364586e+01],\n",
       "        [ 4.63256572e+02, -1.15224042e+02],\n",
       "        [ 4.64862650e+02, -1.64993025e+02],\n",
       "        [ 4.21918885e+02, -2.05651516e+02],\n",
       "        [ 4.27492643e+02, -2.34108455e+02]],\n",
       "\n",
       "       [[ 1.36727834e+03,  9.05980696e+02],\n",
       "        [ 1.16333007e+03,  1.03982409e+03],\n",
       "        [ 1.08830584e+03,  1.10844848e+03],\n",
       "        [ 9.89687927e+02,  1.18336542e+03],\n",
       "        [ 7.26227006e+02,  1.22546390e+03],\n",
       "        [ 6.25455070e+02,  1.25088509e+03],\n",
       "        [ 5.65288990e+02,  1.26432584e+03],\n",
       "        [ 5.48087831e+02,  1.09880562e+03],\n",
       "        [ 1.34824181e+02,  1.04484476e+03],\n",
       "        [ 8.20477736e+02,  1.25837392e+03],\n",
       "        [ 8.41500749e+02,  1.29509922e+03],\n",
       "        [ 8.51980043e+02,  1.30461233e+03],\n",
       "        [ 8.77254571e+02,  1.31748738e+03],\n",
       "        [ 1.32338922e+03,  3.99617597e+02],\n",
       "        [ 1.34128519e+03,  3.66503593e+02],\n",
       "        [ 1.36614429e+03,  3.33665151e+02],\n",
       "        [ 1.38794331e+03,  3.03239999e+02],\n",
       "        [ 1.40820021e+03,  2.68260811e+02],\n",
       "        [ 1.42295173e+03,  2.27390683e+02],\n",
       "        [ 1.42352025e+03,  1.88679135e+02],\n",
       "        [ 1.41551551e+03,  1.52308278e+02],\n",
       "        [ 1.42603197e+03,  1.22369903e+02],\n",
       "        [ 1.40541536e+03,  9.94659330e+01]]])"
      ]
     },
     "execution_count": 499,
     "metadata": {},
     "output_type": "execute_result"
    }
   ],
   "source": [
    "calibration_.project(all_pts[0])"
   ]
  },
  {
   "cell_type": "code",
   "execution_count": 504,
   "id": "7914cc1e-b4c1-4b8b-a05c-5b04e1fcc480",
   "metadata": {},
   "outputs": [
    {
     "data": {
      "text/plain": [
       "array([[ 729.46379396,  493.70164812,  928.3513562 , ...,  257.20534411,\n",
       "         656.64814567,  257.89094988],\n",
       "       [1190.94302413,  864.02257577, 1565.43814969, ...,  182.33853991,\n",
       "         733.22113549,  182.74035922],\n",
       "       [1505.78259207,  468.78614197, 1518.65566533, ...,  192.2228837 ,\n",
       "         825.29491346,  203.92312576],\n",
       "       ...,\n",
       "       [1337.25330443,  623.0657712 , 1696.75403551, ..., 1248.12555891,\n",
       "        1274.16202415, 1213.40603941],\n",
       "       [1777.01324705,  953.11174149, 1859.21653013, ..., 1247.23208032,\n",
       "        1265.03770061, 1216.60617651],\n",
       "       [1716.31983832, 1372.74274231, 1668.74537529, ..., 1247.95889613,\n",
       "        1245.82420494, 1217.55785023]])"
      ]
     },
     "execution_count": 504,
     "metadata": {},
     "output_type": "execute_result"
    }
   ],
   "source": [
    "calibration_.project(all_pts.reshape(-1,3))[0].reshape(46, 46)"
   ]
  },
  {
   "cell_type": "code",
   "execution_count": 503,
   "id": "9f83d773-e6f3-4f45-85ad-2e5077f9499d",
   "metadata": {},
   "outputs": [
    {
     "data": {
      "text/plain": [
       "23.0"
      ]
     },
     "execution_count": 503,
     "metadata": {},
     "output_type": "execute_result"
    }
   ],
   "source": [
    "1058/46"
   ]
  },
  {
   "cell_type": "code",
   "execution_count": null,
   "id": "18b9e1a5-c171-495b-a141-7aaceef1ef13",
   "metadata": {},
   "outputs": [],
   "source": []
  }
 ],
 "metadata": {
  "kernelspec": {
   "display_name": "Python 3 (ipykernel)",
   "language": "python",
   "name": "python3"
  },
  "language_info": {
   "codemirror_mode": {
    "name": "ipython",
    "version": 3
   },
   "file_extension": ".py",
   "mimetype": "text/x-python",
   "name": "python",
   "nbconvert_exporter": "python",
   "pygments_lexer": "ipython3",
   "version": "3.7.15"
  }
 },
 "nbformat": 4,
 "nbformat_minor": 5
}
