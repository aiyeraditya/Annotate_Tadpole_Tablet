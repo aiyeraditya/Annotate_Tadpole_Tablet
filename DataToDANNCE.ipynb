{
 "cells": [
  {
   "cell_type": "code",
   "execution_count": 12,
   "id": "ecb5ef01-265c-4e06-be09-791db5041cc1",
   "metadata": {},
   "outputs": [],
   "source": [
    "import numpy as np\n",
    "import pandas as pd\n",
    "import os\n",
    "import aniposelib\n",
    "import scipy.io"
   ]
  },
  {
   "cell_type": "code",
   "execution_count": 224,
   "id": "4b48718f-2c5f-4d3a-bc46-19981f328a2d",
   "metadata": {},
   "outputs": [],
   "source": [
    "data_path = '/mnt/soma_cifs/Iyer/DANNCE_Files/tadpole_stage57_2022-11-04/DLTdv8_data_xyzpts.csv';\n",
    "calib_path = '/mnt/soma_cifs/Iyer/Filming/02112022a/calibrationwater_1515/calibration.toml';\n",
    "label3d_path = '/mnt/soma_cifs/Iyer/DANNCE_Files/tadpole-stage57_Nov2022a/label3d_data.mat';\n",
    "n_frames = 88\n",
    "n_pts = 13"
   ]
  },
  {
   "cell_type": "code",
   "execution_count": 225,
   "id": "12d805da-cec9-46d9-bf03-5b56c473ed3b",
   "metadata": {},
   "outputs": [],
   "source": [
    "def add_pts(data_path, calib_path, label3d_path, n_frames, n_pts):\n",
    "    df = pd.read_csv(data_path);\n",
    "    calibration_ = aniposelib.cameras.CameraGroup.load(calib_path);\n",
    "    matfile_ = scipy.io.loadmat(label3d_path)['label3d_data'];\n",
    "\n",
    "    df_np = df.to_numpy().reshape(-1, 3)\n",
    "    df_cam = calibration_.project(df_np)\n",
    "    df_cam = np.rint(df_cam).astype('int32')\n",
    "\n",
    "    for cam_num in [0,1,2]:\n",
    "        matfile_['labelData'][0][0][cam_num][0]['data_2d'][0][0] = df_cam[cam_num].reshape(n_frames, n_pts*2)\n",
    "        matfile_['labelData'][0][0][cam_num][0]['data_3d'][0][0] = df.to_numpy()\n",
    "    scipy.io.savemat(label3d_path, {'label3d_data':matfile_})"
   ]
  },
  {
   "cell_type": "code",
   "execution_count": 226,
   "id": "55e60fac-f8dd-4713-8ac1-503954f2835c",
   "metadata": {},
   "outputs": [],
   "source": [
    "add_pts(data_path, calib_path, label3d_path, n_frames, n_pts)"
   ]
  },
  {
   "cell_type": "code",
   "execution_count": null,
   "id": "f56b1f30-f058-47e6-8285-c554cecbe3ea",
   "metadata": {},
   "outputs": [],
   "source": []
  }
 ],
 "metadata": {
  "kernelspec": {
   "display_name": "Python 3 (ipykernel)",
   "language": "python",
   "name": "python3"
  },
  "language_info": {
   "codemirror_mode": {
    "name": "ipython",
    "version": 3
   },
   "file_extension": ".py",
   "mimetype": "text/x-python",
   "name": "python",
   "nbconvert_exporter": "python",
   "pygments_lexer": "ipython3",
   "version": "3.7.15"
  }
 },
 "nbformat": 4,
 "nbformat_minor": 5
}
